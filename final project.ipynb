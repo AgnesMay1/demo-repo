{
 "cells": [
  {
   "cell_type": "markdown",
   "id": "4fe58804-fb31-4f50-a89b-e5022fd83399",
   "metadata": {},
   "source": [
    "Final Project"
   ]
  },
  {
   "cell_type": "markdown",
   "id": "11170679-7944-4cd1-9ae7-f3bd2bc6d903",
   "metadata": {},
   "source": [
    "This is the final project of the module 'Tools for Data Science'."
   ]
  },
  {
   "cell_type": "markdown",
   "id": "48affdf6-e508-443f-9f05-1a2ad3ca0051",
   "metadata": {},
   "source": [
    "The most common data science languages include Python, R and SQL."
   ]
  },
  {
   "cell_type": "markdown",
   "id": "8496cba8-ef9e-41aa-99e8-f6ac3fa99fdc",
   "metadata": {},
   "source": [
    "The most common data science libraries include numpy, pandas and matplotlib."
   ]
  },
  {
   "cell_type": "markdown",
   "id": "bbc1d30a-2984-4ba9-8b9e-311d155bf310",
   "metadata": {},
   "source": [
    "| Number | Tool Name | \n",
    "| --- | --- | \n",
    "| 1 | Jupyter notebook |\n",
    "| 2 | Apache Spark |\n",
    "| 3 | IBM SPSS |\n"
   ]
  },
  {
   "cell_type": "markdown",
   "id": "dafdd51c-4861-4c16-9f3d-398a95963448",
   "metadata": {},
   "source": [
    "We can do arithemetic calculation in jupyter: for example we can try adding numbers '3+4' or multiplying numbers '3*4'."
   ]
  },
  {
   "cell_type": "code",
   "execution_count": null,
   "id": "24fbeb1e-828d-4d1f-b97a-95f126654740",
   "metadata": {},
   "outputs": [],
   "source": [
    "a=3+4\n",
    "b=3*4"
   ]
  },
  {
   "cell_type": "code",
   "execution_count": null,
   "id": "4cfbbeab-4563-41fd-89bf-16b3dee32618",
   "metadata": {},
   "outputs": [],
   "source": [
    "hours=minutes/60"
   ]
  },
  {
   "cell_type": "markdown",
   "id": "96c226f1-34b6-40aa-866d-be953227a206",
   "metadata": {},
   "source": [
    "The objectives of this final project is to get familar with Jupyter notebook and master basic knowledge including markdown, code mode as well as basic codes implementation."
   ]
  },
  {
   "cell_type": "markdown",
   "id": "8a5d3923-12de-4501-a523-d4b38f2453ed",
   "metadata": {},
   "source": [
    "The author of the notebook is Agnes."
   ]
  }
 ],
 "metadata": {
  "kernelspec": {
   "display_name": "Python [conda env:base] *",
   "language": "python",
   "name": "conda-base-py"
  },
  "language_info": {
   "codemirror_mode": {
    "name": "ipython",
    "version": 3
   },
   "file_extension": ".py",
   "mimetype": "text/x-python",
   "name": "python",
   "nbconvert_exporter": "python",
   "pygments_lexer": "ipython3",
   "version": "3.12.7"
  }
 },
 "nbformat": 4,
 "nbformat_minor": 5
}
